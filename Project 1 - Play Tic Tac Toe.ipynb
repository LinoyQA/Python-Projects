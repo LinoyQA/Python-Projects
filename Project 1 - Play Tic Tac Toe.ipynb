{
 "cells": [
  {
   "cell_type": "code",
   "execution_count": 1,
   "id": "2433493c",
   "metadata": {},
   "outputs": [],
   "source": [
    "#1 Write a function that displays the playing field\n",
    "from IPython.display import clear_output\n",
    "\n",
    "def display_board(board):\n",
    "    clear_output()\n",
    "    \n",
    "    print('   |   |')\n",
    "    print(' ' + board[7] + ' | ' + board[8] +' | ' + board[9])\n",
    "    print('   |   |')\n",
    "    print('-----------')\n",
    "    print('   |   |')\n",
    "    print(' ' + board[4] + ' | ' + board[5] +' | ' + board[6])\n",
    "    print('   |   |')\n",
    "    print('-----------')\n",
    "    print('   |   |')\n",
    "    print(' ' + board[1] + ' | ' + board[2] +' | ' + board[3])\n",
    "    print('   |   |')"
   ]
  },
  {
   "cell_type": "code",
   "execution_count": 2,
   "id": "c2ca5bea",
   "metadata": {},
   "outputs": [
    {
     "name": "stdout",
     "output_type": "stream",
     "text": [
      "   |   |\n",
      " X | O | X\n",
      "   |   |\n",
      "-----------\n",
      "   |   |\n",
      " O | X | O\n",
      "   |   |\n",
      "-----------\n",
      "   |   |\n",
      " X | O | X\n",
      "   |   |\n"
     ]
    }
   ],
   "source": [
    "test_board = ['#','X','O','X','O','X','O','X','O','X']\n",
    "display_board(test_board)"
   ]
  },
  {
   "cell_type": "code",
   "execution_count": 3,
   "id": "70a46434",
   "metadata": {},
   "outputs": [],
   "source": [
    "#2 Write a function that asks the users what character they want to use 'X' or 'O'?\n",
    "def player_input():\n",
    "    '''\n",
    "    OUTPUT (Player 1 marker, Player 2 marker)\n",
    "    '''\n",
    "    marker = ''\n",
    "    \n",
    "    while not (marker == 'X' or marker == 'O'):\n",
    "        marker = input('Player 1:who do you want to play, X or O?').upper()\n",
    "        \n",
    "    if marker == 'X':\n",
    "        return ('X','O')\n",
    "    else:\n",
    "        return ('O','X')"
   ]
  },
  {
   "cell_type": "code",
   "execution_count": 4,
   "id": "e861793e",
   "metadata": {},
   "outputs": [
    {
     "name": "stdout",
     "output_type": "stream",
     "text": [
      "Player 1:who do you want to play, X or O?X\n"
     ]
    }
   ],
   "source": [
    "#test of step 2\n",
    "player1_marker, player2_marker = player_input()\n",
    " \n"
   ]
  },
  {
   "cell_type": "code",
   "execution_count": 5,
   "id": "1a653b57",
   "metadata": {},
   "outputs": [
    {
     "data": {
      "text/plain": [
       "'O'"
      ]
     },
     "execution_count": 5,
     "metadata": {},
     "output_type": "execute_result"
    }
   ],
   "source": [
    "player2_marker\n"
   ]
  },
  {
   "cell_type": "code",
   "execution_count": 6,
   "id": "373b3305",
   "metadata": {},
   "outputs": [],
   "source": [
    "#3 Write a function that takes as input a playing field object(list), a symbol(X or O), a desired position(1-9),and places \n",
    "   # this symbol on the playing field.\n",
    "    \n",
    "def place_marker(board, marker, position):\n",
    "    board[position] = marker"
   ]
  },
  {
   "cell_type": "code",
   "execution_count": 7,
   "id": "ff441e66",
   "metadata": {},
   "outputs": [
    {
     "name": "stdout",
     "output_type": "stream",
     "text": [
      "   |   |\n",
      " X | $ | X\n",
      "   |   |\n",
      "-----------\n",
      "   |   |\n",
      " O | X | O\n",
      "   |   |\n",
      "-----------\n",
      "   |   |\n",
      " X | O | X\n",
      "   |   |\n"
     ]
    }
   ],
   "source": [
    "#test of step 3\n",
    "place_marker(test_board,'$',8)\n",
    "display_board(test_board)"
   ]
  },
  {
   "cell_type": "code",
   "execution_count": 8,
   "id": "dc469a55",
   "metadata": {},
   "outputs": [],
   "source": [
    "#4 Write a function that takes a playing field, a symbol (X or O) and then checks if that symbol has won.\n",
    "def win_check(board, mark):\n",
    "    return ((board[7]==mark and board[8]==mark and board[9]==mark)or\n",
    "    (board[4]==mark and board[5]==mark and board[6]==mark)or\n",
    "    (board[1]==mark and board[2]==mark and board[3]==mark)or\n",
    "    (board[7]==mark and board[4]==mark and board[1]==mark)or\n",
    "    (board[8]==mark and board[5]==mark and board[2]==mark)or\n",
    "    (board[9]==mark and board[6]==mark and board[3]==mark)or\n",
    "    (board[7]==mark and board[5]==mark and board[3]==mark)or\n",
    "    (board[9]==mark and board[5]==mark and board[1]==mark))    "
   ]
  },
  {
   "cell_type": "code",
   "execution_count": 9,
   "id": "dd9fcc23",
   "metadata": {},
   "outputs": [
    {
     "data": {
      "text/plain": [
       "True"
      ]
     },
     "execution_count": 9,
     "metadata": {},
     "output_type": "execute_result"
    }
   ],
   "source": [
    "#test of step 4\n",
    "win_check(test_board, 'X')"
   ]
  },
  {
   "cell_type": "code",
   "execution_count": 10,
   "id": "2b6499c3",
   "metadata": {},
   "outputs": [],
   "source": [
    "#5 Write a function that uses the random module to randomly decide which player goes first.\n",
    "import random\n",
    "\n",
    "def choose_first():\n",
    "    if random.randint(0, 1)== 0:\n",
    "        return 'Player 2'\n",
    "    else:\n",
    "        return 'Player 1'"
   ]
  },
  {
   "cell_type": "code",
   "execution_count": 11,
   "id": "d534dc8a",
   "metadata": {},
   "outputs": [],
   "source": [
    "#6 Write a function that returns a boolean value depending on whether the specified space on the playing field is empty or not.\n",
    "def space_check(board, position):\n",
    "    \n",
    "    return board[position]==' '"
   ]
  },
  {
   "cell_type": "code",
   "execution_count": 12,
   "id": "c1a9e186",
   "metadata": {},
   "outputs": [],
   "source": [
    "#7 Write a function that checks ifthe playing field is full and returns boolean - True if full, False otherwise.\n",
    "def full_board_check(board):\n",
    "    for i in range(1,10):\n",
    "        if space_check(board, i):\n",
    "            return False\n",
    "    return True"
   ]
  },
  {
   "cell_type": "code",
   "execution_count": 13,
   "id": "fd655d2f",
   "metadata": {},
   "outputs": [],
   "source": [
    "#8 Write a function that asks the player for the next position (as a number 1-9) and then uses the function from step 6 to check\n",
    "# if that position is empty.If Yes, returns that position for later use.\n",
    "def player_choice(board):\n",
    "    position = 0\n",
    "    \n",
    "    while position not in [1,2,3,4,5,7,8,9] or not space_check(board, position):\n",
    "        position = int(input('Choose the next cell 1-9'))\n",
    "        \n",
    "    return position"
   ]
  },
  {
   "cell_type": "code",
   "execution_count": 14,
   "id": "713b4744",
   "metadata": {},
   "outputs": [],
   "source": [
    "#9 Write a function that asks the player if they want to play again and returns True if the player says \"Yes\".\n",
    "def replay():\n",
    "\n",
    "    return input('Do you want to play again? Yes or No:').lower().startswith('y')"
   ]
  },
  {
   "cell_type": "code",
   "execution_count": 15,
   "id": "51014a47",
   "metadata": {},
   "outputs": [
    {
     "name": "stdout",
     "output_type": "stream",
     "text": [
      "   |   |\n",
      " O | X | X\n",
      "   |   |\n",
      "-----------\n",
      "   |   |\n",
      " O |   |  \n",
      "   |   |\n",
      "-----------\n",
      "   |   |\n",
      " O |   |  \n",
      "   |   |\n",
      "Player 2 won!\n",
      "Do you want to play again? Yes or No:No\n"
     ]
    }
   ],
   "source": [
    "#10 Use while loops to run the game.\n",
    "import time\n",
    "print('Welcome to the tic-tac-toe game!')\n",
    "time.sleep(0.2)\n",
    "\n",
    "while True:\n",
    "    # game setup\n",
    "    theBoard = [' '] * 10\n",
    "    player1_marker,player2_marker = player_input()\n",
    "    turn = choose_first()\n",
    "    print(' Goes first ' + turn + '.')\n",
    "    \n",
    "    play_game = input('Are you ready to play? Enter Yes or No.')\n",
    "    \n",
    "    if play_game.lower()[0]=='y':\n",
    "        game_on = True\n",
    "    else:\n",
    "        game_on = False\n",
    "    while game_on:\n",
    "        if turn =='Player 1':\n",
    "            # Player 1 turn\n",
    "            \n",
    "            display_board(theBoard)\n",
    "            position = player_choice(theBoard)\n",
    "            place_marker(theBoard,player1_marker,position)\n",
    "            \n",
    "            if win_check(theBoard,player1_marker):\n",
    "                display_board(theBoard)\n",
    "                print('Congratulations! You have won!')\n",
    "                game_on = False\n",
    "            else:\n",
    "                if full_board_check(theBoard):\n",
    "                    display_board(theBoard)\n",
    "                    print('Draw!')\n",
    "                    break\n",
    "                else:\n",
    "                    turn = 'Player 2'\n",
    "        else:\n",
    "            # Player 2 turn\n",
    "            \n",
    "            display_board(theBoard)\n",
    "            position = player_choice(theBoard)\n",
    "            place_marker(theBoard,player2_marker,position)\n",
    "            \n",
    "            if win_check(theBoard,player2_marker):\n",
    "                display_board(theBoard)\n",
    "                print('Player 2 won!')\n",
    "                game_on = False\n",
    "            else:\n",
    "                if full_board_check(theBoard):\n",
    "                    display_board(theBoard)\n",
    "                    print('Draw!')\n",
    "                    break\n",
    "                else:\n",
    "                    turn = 'Player 1'\n",
    "    if not replay():\n",
    "        break\n",
    "            \n",
    "            \n",
    "    "
   ]
  },
  {
   "cell_type": "code",
   "execution_count": null,
   "id": "93ebce05",
   "metadata": {},
   "outputs": [],
   "source": []
  },
  {
   "cell_type": "code",
   "execution_count": null,
   "id": "48727982",
   "metadata": {},
   "outputs": [],
   "source": []
  }
 ],
 "metadata": {
  "kernelspec": {
   "display_name": "Python 3",
   "language": "python",
   "name": "python3"
  },
  "language_info": {
   "codemirror_mode": {
    "name": "ipython",
    "version": 3
   },
   "file_extension": ".py",
   "mimetype": "text/x-python",
   "name": "python",
   "nbconvert_exporter": "python",
   "pygments_lexer": "ipython3",
   "version": "3.8.8"
  }
 },
 "nbformat": 4,
 "nbformat_minor": 5
}
